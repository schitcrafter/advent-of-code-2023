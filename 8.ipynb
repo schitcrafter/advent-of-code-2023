{
 "cells": [
  {
   "cell_type": "code",
   "execution_count": null,
   "metadata": {},
   "outputs": [],
   "source": [
    "input_file_name = \"8-input.txt\"\n",
    "f = open(input_file_name, \"r\")\n",
    "input = f.read()\n",
    "lines = input.split(\"\\n\")"
   ]
  },
  {
   "cell_type": "code",
   "execution_count": null,
   "metadata": {},
   "outputs": [],
   "source": [
    "# True <=> Left\n",
    "instructions = list(map(lambda instr: instr == \"L\", lines[0]))\n",
    "\n",
    "map_text = lines[2:]\n",
    "\n",
    "# start strings\n",
    "starts = []\n",
    "# indices to the left and right paths\n",
    "endings = []\n",
    "\n",
    "# whether or not the name at a certain index ends with \"Z\"\n",
    "ends_with_z = []\n",
    "\n",
    "# indices of the current nodes\n",
    "current_nodes = []\n",
    "\n",
    "for index, line in enumerate(map_text):\n",
    "    [start, ending] = line.split(\"=\")\n",
    "    start = start.strip()\n",
    "    ending = ending.strip()[1:-1].split(\",\")\n",
    "    ending = tuple(map(lambda t: t.strip(), ending))\n",
    "    starts.append(start)\n",
    "    endings.append(ending)\n",
    "\n",
    "    ends_with_z.append(start.endswith(\"Z\"))\n",
    "    if start.endswith(\"A\"):\n",
    "        current_nodes.append(index)\n",
    "\n",
    "ending_indices = []\n",
    "\n",
    "for left, right in endings:\n",
    "    left_index = starts.index(left)\n",
    "    right_index = starts.index(right)\n",
    "    ending_indices.append((left_index, right_index))\n",
    "\n",
    "current_nodes"
   ]
  },
  {
   "cell_type": "code",
   "execution_count": null,
   "metadata": {},
   "outputs": [],
   "source": [
    "steps = 0\n",
    "running = True\n",
    "\n",
    "while running:\n",
    "    for turn_left in instructions:\n",
    "        if all(ends_with_z[node] == True for node in current_nodes):\n",
    "            running = False\n",
    "            break\n",
    "\n",
    "        for index, current_node in enumerate(current_nodes):\n",
    "            possible_paths = ending_indices[current_node]\n",
    "            # print(f\"Got paths {possible_paths} for node {current_node}\")\n",
    "\n",
    "            if turn_left:\n",
    "                new_node = possible_paths[0]\n",
    "            else:\n",
    "                new_node = possible_paths[1]\n",
    "            current_nodes[index] = new_node\n",
    "            # print(f\"Chose path to {new_node}\")\n",
    "\n",
    "        steps += 1\n",
    "        # print(f\"{current_nodes=}\")\n",
    "        # print(f\"{steps=}\")\n",
    "\n",
    "print(f\"Total steps taken: {steps}\")"
   ]
  }
 ],
 "metadata": {
  "kernelspec": {
   "display_name": "Python 3",
   "language": "python",
   "name": "python3"
  },
  "language_info": {
   "codemirror_mode": {
    "name": "ipython",
    "version": 3
   },
   "file_extension": ".py",
   "mimetype": "text/x-python",
   "name": "python",
   "nbconvert_exporter": "python",
   "pygments_lexer": "ipython3",
   "version": "3.12.0"
  }
 },
 "nbformat": 4,
 "nbformat_minor": 2
}
