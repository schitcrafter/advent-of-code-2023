{
 "cells": [
  {
   "cell_type": "code",
   "execution_count": 21,
   "metadata": {},
   "outputs": [
    {
     "data": {
      "text/plain": [
       "[(56977793, 499221010971440)]"
      ]
     },
     "execution_count": 21,
     "metadata": {},
     "output_type": "execute_result"
    }
   ],
   "source": [
    "f = open(\"6-input-2nd-part.txt\", \"r\")\n",
    "input = f.read()\n",
    "lines = input.split(\"\\n\")\n",
    "\n",
    "# parses a list of numbers (as strings)\n",
    "# separated by whitespaces to a list of actual numbers\n",
    "def parse_numbers(string):\n",
    "    numbers = string.strip().split()\n",
    "    numbers = list(map(int, numbers))\n",
    "    return numbers\n",
    "\n",
    "time_line = parse_numbers(lines[0].split(\":\")[1])\n",
    "distance_line = parse_numbers(lines[1].split(\":\")[1])\n",
    "\n",
    "time_to_distances = []\n",
    "for index, time in enumerate(time_line):\n",
    "    distance = distance_line[index]\n",
    "    time_to_distances.append((time, distance))\n",
    "\n",
    "time_to_distances"
   ]
  },
  {
   "cell_type": "code",
   "execution_count": 22,
   "metadata": {},
   "outputs": [
    {
     "data": {
      "text/plain": [
       "35349468"
      ]
     },
     "execution_count": 22,
     "metadata": {},
     "output_type": "execute_result"
    }
   ],
   "source": [
    "def options_in_one_race(total_time, record_distance):\n",
    "    distances = []\n",
    "    for button_time in range(1, total_time):\n",
    "        # print(f\"{button_time=}\")\n",
    "        time_spent_driving = total_time - button_time\n",
    "        speed = button_time\n",
    "        distance = time_spent_driving * speed\n",
    "        # print(f\"Got distance {distance} by driving with speed {speed} for {time_spent_driving}\")\n",
    "        if distance > record_distance:\n",
    "            distances.append(distance)\n",
    "\n",
    "    return len(distances)\n",
    "\n",
    "options_in_one_race(7, 9)\n",
    "\n",
    "num_winning_options = list(map(lambda t: options_in_one_race(t[0], t[1]), time_to_distances))\n",
    "\n",
    "running_mult = 1\n",
    "for num_winning_option in num_winning_options:\n",
    "    running_mult *= num_winning_option\n",
    "\n",
    "running_mult"
   ]
  }
 ],
 "metadata": {
  "kernelspec": {
   "display_name": "Python 3",
   "language": "python",
   "name": "python3"
  },
  "language_info": {
   "codemirror_mode": {
    "name": "ipython",
    "version": 3
   },
   "file_extension": ".py",
   "mimetype": "text/x-python",
   "name": "python",
   "nbconvert_exporter": "python",
   "pygments_lexer": "ipython3",
   "version": "3.12.0"
  }
 },
 "nbformat": 4,
 "nbformat_minor": 2
}
